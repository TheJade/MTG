{
 "cells": [
  {
   "cell_type": "code",
   "execution_count": null,
   "metadata": {},
   "outputs": [],
   "source": [
    "import requests\n",
    "from bs4 import BeautifulSoup\n",
    "\n",
    "URL = \"https://realpython.github.io/fake-jobs/\"\n",
    "page = requests.get(URL)\n",
    "\n",
    "soup = BeautifulSoup(page.content, \"html.parser\")"
   ]
  },
  {
   "cell_type": "code",
   "execution_count": null,
   "metadata": {},
   "outputs": [],
   "source": [
    "results = soup.find(id=\"ResultsContainer\")\n",
    "\n",
    "job_elements = results.find_all(\"div\", class_=\"card-content\")\n",
    "\n",
    "for job_element in job_elements:\n",
    "    title_element = job_element.find(\"h2\", class_=\"title\")\n",
    "    company_element = job_element.find(\"h3\", class_=\"company\")\n",
    "    location_element = job_element.find(\"p\", class_=\"location\")\n",
    "    print(title_element.text)\n",
    "    print(company_element.text)\n",
    "    print(location_element.text)\n",
    "    print()"
   ]
  },
  {
   "cell_type": "markdown",
   "metadata": {},
   "source": [
    "# testing"
   ]
  },
  {
   "cell_type": "code",
   "execution_count": null,
   "metadata": {},
   "outputs": [],
   "source": [
    "import requests\n",
    "from bs4 import BeautifulSoup\n",
    "\n",
    "url = \"https://mtgdecks.net/Commander/tournaments\"\n",
    "\n",
    "response = requests.get(url)\n",
    "\n",
    "soup = BeautifulSoup(response.content, \"html.parser\")\n",
    "\n",
    "results = soup.find()\n",
    "\n",
    "# # Find all the tournament rows in the table\n",
    "# tournament_rows = soup.find_all(\"tr\", class_=\"altrow\")\n",
    "\n",
    "# # Loop through each tournament row and extract the relevant data\n",
    "# for row in tournament_rows:\n",
    "#     tournament_date = row.find(\"td\", class_=\"date\").text.strip()\n",
    "#     tournament_name = row.find(\"td\", class_=\"name\").text.strip()\n",
    "#     tournament_location = row.find(\"td\", class_=\"location\").text.strip()\n",
    "#     tournament_format = row.find(\"td\", class_=\"format\").text.strip()\n",
    "#     tournament_url = row.find(\"td\", class_=\"name\").find(\"a\")[\"href\"]\n",
    "\n",
    "#     # Do something with the data (e.g. print it)\n",
    "#     print(f\"Date: {tournament_date}\")\n",
    "#     print(f\"Name: {tournament_name}\")\n",
    "#     print(f\"Location: {tournament_location}\")\n",
    "#     print(f\"Format: {tournament_format}\")\n",
    "#     print(f\"URL: {tournament_url}\")\n"
   ]
  },
  {
   "cell_type": "code",
   "execution_count": null,
   "metadata": {},
   "outputs": [],
   "source": [
    "results.find_all('a')"
   ]
  },
  {
   "cell_type": "code",
   "execution_count": null,
   "metadata": {},
   "outputs": [],
   "source": [
    "soup.find_all(\"tr\", class_=\"hidden-xs\")"
   ]
  },
  {
   "cell_type": "code",
   "execution_count": null,
   "metadata": {},
   "outputs": [],
   "source": [
    "soup.find_all('h1')"
   ]
  },
  {
   "cell_type": "code",
   "execution_count": null,
   "metadata": {},
   "outputs": [],
   "source": [
    "soup.p"
   ]
  },
  {
   "cell_type": "code",
   "execution_count": null,
   "metadata": {},
   "outputs": [],
   "source": [
    "print(results.prettify())"
   ]
  },
  {
   "cell_type": "markdown",
   "metadata": {},
   "source": []
  }
 ],
 "metadata": {
  "kernelspec": {
   "display_name": "Python 3.9.13 ('base')",
   "language": "python",
   "name": "python3"
  },
  "language_info": {
   "codemirror_mode": {
    "name": "ipython",
    "version": 3
   },
   "file_extension": ".py",
   "mimetype": "text/x-python",
   "name": "python",
   "nbconvert_exporter": "python",
   "pygments_lexer": "ipython3",
   "version": "3.9.13"
  },
  "orig_nbformat": 4,
  "vscode": {
   "interpreter": {
    "hash": "3067ead486e059ec00ffe7555bdb889e6e264a24dc711bf108106cc7baee8d5d"
   }
  }
 },
 "nbformat": 4,
 "nbformat_minor": 2
}
